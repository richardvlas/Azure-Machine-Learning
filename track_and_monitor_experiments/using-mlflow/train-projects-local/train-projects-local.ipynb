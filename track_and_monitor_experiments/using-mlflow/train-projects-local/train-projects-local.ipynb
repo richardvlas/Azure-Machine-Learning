{
 "cells": [
  {
   "cell_type": "markdown",
   "metadata": {},
   "source": [
    "# Train with MLflow Projects on local compute\n",
    "\n",
    "Train MLflow Projects on your machine with local compute and AzureML tracking. In this notebook you will:\n",
    "\n",
    "1. Set up MLflow tracking URI to track experiments and metrics in AzureML\n",
    "2. Create experiment\n",
    "3. Set up an MLflow project to run on AzureML compute\n",
    "4. Submit an MLflow project run and view it in an AzureML workspace "
   ]
  },
  {
   "cell_type": "markdown",
   "metadata": {},
   "source": [
    "## Prerequisites \n",
    "\n",
    "If you are using a Notebook VM, you're all set. Otherwise, go through the [Configuration](../../../../configuration.ipnyb) notebook to set up your Azure Machine Learning workspace and ensure other common prerequisites are met.\n",
    "\n",
    "Install azureml-mlflow package before running this notebook. Note that mlflow itself gets installed as dependency if you haven't installed it yet.\n",
    "\n",
    "```\n",
    "pip install azureml-mlflow\n",
    "```\n",
    "\n",
    "This example also uses scikit-learn. Install them using the following:\n",
    "```\n",
    "pip install scikit-learn matplotlib\n",
    "```\n",
    "\n",
    "Make sure you have the following before starting the notebook: \n",
    "- Connected to an AzureML Workspace \n",
    "- Your local conda environment has the necessary packages needed to run this project\n",
    "\n",
    "\n",
    "\n"
   ]
  },
  {
   "cell_type": "markdown",
   "metadata": {},
   "source": [
    "## Set-up\n",
    "\n",
    "Configure your workspace and check package versions"
   ]
  },
  {
   "cell_type": "code",
   "execution_count": 2,
   "metadata": {
    "tags": []
   },
   "outputs": [
    {
     "name": "stdout",
     "output_type": "stream",
     "text": [
      "SDK version: 1.38.0\n",
      "MLflow version: 1.23.1\n",
      "aml-workspace\n",
      "aml-resource-group\n",
      "westeurope\n",
      "b17f1c19-34a2-47b8-a207-40ea477828fc\n"
     ]
    }
   ],
   "source": [
    "import sys, os\n",
    "import mlflow\n",
    "import mlflow.azureml\n",
    "\n",
    "import azureml.core\n",
    "from azureml.core import Workspace\n",
    "\n",
    "ws = Workspace.from_config()\n",
    "\n",
    "print(\"SDK version:\", azureml.core.VERSION)\n",
    "print(\"MLflow version:\", mlflow.version.VERSION)\n",
    "print(ws.name, ws.resource_group, ws.location, ws.subscription_id, sep = '\\n')"
   ]
  },
  {
   "cell_type": "markdown",
   "metadata": {},
   "source": [
    "## Initialize Tracking Store and Experiment\n",
    "\n",
    "### Set the Tracking Store\n",
    "Set the MLflow tracking URI to point to your Azure ML Workspace. The subsequent logging calls from MLflow APIs will go to Azure ML services and will be tracked under your Workspace."
   ]
  },
  {
   "cell_type": "code",
   "execution_count": 3,
   "metadata": {},
   "outputs": [],
   "source": [
    "mlflow.set_tracking_uri(ws.get_mlflow_tracking_uri())"
   ]
  },
  {
   "cell_type": "markdown",
   "metadata": {},
   "source": [
    "### Create Experiment\n",
    "Create an Mlflow Experiment to organize your runs. It can be set either by passing the name as a parameter in the mlflow.projects.run call or by the following,"
   ]
  },
  {
   "cell_type": "code",
   "execution_count": 8,
   "metadata": {},
   "outputs": [
    {
     "data": {
      "text/plain": [
       "<Experiment: artifact_location='', experiment_id='51a62e1c-5f46-41de-ad85-ea2cd77e5e54', lifecycle_stage='active', name='train-project-local', tags={}>"
      ]
     },
     "execution_count": 8,
     "metadata": {},
     "output_type": "execute_result"
    }
   ],
   "source": [
    "experiment_name = \"train-project-local\"\n",
    "mlflow.set_experiment(experiment_name)"
   ]
  },
  {
   "cell_type": "markdown",
   "metadata": {},
   "source": [
    "## Create the Backend Configuration Object\n",
    "\n",
    "The backend configuration object will store necesary information for the integration such as the compute target and whether to use your local managed environment or a system managed environment. \n",
    "\n",
    "The integration will accept \"COMPUTE\" and \"USE_CONDA\" as parameters where \"COMPUTE\" is set to the name of a remote target (not applicable for this training example) and \"USE_CONDA\" which creates a new environment for the project from the environment configuration file. You must set this to \"False\" and include it in the backend configuration object if you want to use your local environment for the project run. Mlflow accepts a dictionary object or a JSON file."
   ]
  },
  {
   "cell_type": "code",
   "execution_count": 9,
   "metadata": {},
   "outputs": [],
   "source": [
    "# dictionary\n",
    "backend_config = {\"USE_CONDA\": False}\n"
   ]
  },
  {
   "cell_type": "markdown",
   "metadata": {},
   "source": [
    "## Add the Integration to your Environment Configuration\n",
    "\n",
    "Add the azureml-mlflow package as a pip dependency to your environment configuration file (conda.yaml). The project can run without this addition, but key artifacts and metrics will not be logged to your Workspace. An example conda.yaml file is included in this notebook folder. Adding it to to the file will look like this,\n",
    "\n",
    "```\n",
    "name: mlflow-example\n",
    "channels:\n",
    "  - defaults\n",
    "  - anaconda\n",
    "  - conda-forge\n",
    "dependencies:\n",
    "  - python=3.6\n",
    "  - scikit-learn=0.19.1\n",
    "  - pip\n",
    "  - pip:\n",
    "    - mlflow\n",
    "    - azureml-mlflow\n",
    "```"
   ]
  },
  {
   "cell_type": "markdown",
   "metadata": {},
   "source": [
    "## User Managed environment\n",
    "For using your local conda environment, set `use_conda = False` in the backend_config object. Ensure your local environment has all the necessary packages for running the project and you are specifying the **backend parameter** in any run call to be **\"azureml\"**."
   ]
  },
  {
   "cell_type": "code",
   "execution_count": 13,
   "metadata": {
    "tags": []
   },
   "outputs": [
    {
     "name": "stderr",
     "output_type": "stream",
     "text": [
      "Class AzureMLProjectBackend: This is an experimental class, and may change at any time. Please see https://aka.ms/azuremlexperimental for more information.\n",
      "2022/02/27 19:45:21 INFO mlflow.projects.utils: === Created directory /tmp/tmppiw3jt2f for downloading remote URIs passed to arguments of type 'path' ===\n"
     ]
    },
    {
     "name": "stdout",
     "output_type": "stream",
     "text": [
      "Exporting conda specifications for existing conda environment: azure_cloud\n",
      "27/02/2022 19:40:50 INFO azureml.mlflow: === Using local conda environment azure_cloud for local run ===\n"
     ]
    },
    {
     "name": "stderr",
     "output_type": "stream",
     "text": [
      "Class AzureMLSubmittedRun: This is an experimental class, and may change at any time. Please see https://aka.ms/azuremlexperimental for more information.\n"
     ]
    },
    {
     "name": "stdout",
     "output_type": "stream",
     "text": [
      "RunId: train-project-local_1645987527_68a1798a\n",
      "Web View: https://ml.azure.com/runs/train-project-local_1645987527_68a1798a?wsid=/subscriptions/b17f1c19-34a2-47b8-a207-40ea477828fc/resourcegroups/aml-resource-group/workspaces/aml-workspace&tid=0f823349-2c12-431b-a03c-b2c0a43d6fb4\n",
      "\n",
      "Streaming azureml-logs/70_driver_log.txt\n",
      "========================================\n",
      "\n",
      "[2022-02-27T18:45:30.021854] Entering context manager injector.\n",
      "[2022-02-27T18:45:30.511640] context_manager_injector.py Command line Options: Namespace(inject=['ProjectPythonPath:context_managers.ProjectPythonPath', 'RunHistory:context_managers.RunHistory', 'TrackUserError:context_managers.TrackUserError'], invocation=['python train.py 0.3 0.1'])\n",
      "Script type = COMMAND\n",
      "[2022-02-27T18:45:30.513036] Command=python train.py 0.3 0.1\n",
      "[2022-02-27T18:45:30.513201] Entering Run History Context Manager.\n",
      "[2022-02-27T18:45:33.952378] Command Working Directory=/tmp/azureml_runs/train-project-local_1645987527_68a1798a\n",
      "[2022-02-27T18:45:33.952821] Starting Linux command : python train.py 0.3 0.1\n",
      "Elasticnet model (alpha=0.300000, l1_ratio=0.100000):\n",
      "  RMSE: 0.787047763084381\n",
      "  MAE: 0.6157985955024701\n",
      "  R2: 0.1999409352987359\n",
      "[2022-02-27T18:45:46.555745] Command finished with return code 0\n",
      "\n",
      "\n",
      "[2022-02-27T18:45:46.555947] The experiment completed successfully. Finalizing run...\n",
      "[2022-02-27T18:45:46.555959] Start FinalizingInRunHistory\n",
      "[2022-02-27T18:45:46.555981] Logging experiment finalizing status in history service.\n",
      "Starting the daemon thread to refresh tokens in background for process with pid = 25766\n",
      "Cleaning up all outstanding Run operations, waiting 300.0 seconds\n",
      "3 items cleaning up...\n",
      "Cleanup took 0.3022458553314209 seconds\n",
      "[2022-02-27T18:45:47.556190] Finished context manager injector.\n",
      "\n",
      "Execution Summary\n",
      "=================\n",
      "RunId: train-project-local_1645987527_68a1798a\n",
      "Web View: https://ml.azure.com/runs/train-project-local_1645987527_68a1798a?wsid=/subscriptions/b17f1c19-34a2-47b8-a207-40ea477828fc/resourcegroups/aml-resource-group/workspaces/aml-workspace&tid=0f823349-2c12-431b-a03c-b2c0a43d6fb4\n",
      "\n"
     ]
    },
    {
     "name": "stderr",
     "output_type": "stream",
     "text": [
      "2022/02/27 19:45:55 INFO mlflow.projects: === Run (ID 'train-project-local_1645987527_68a1798a') succeeded ===\n"
     ]
    }
   ],
   "source": [
    "local_env_run = mlflow.projects.run(uri=\".\", \n",
    "                                    parameters={\"alpha\":0.3},\n",
    "                                    backend = \"azureml\",\n",
    "                                    use_conda=False,\n",
    "                                    backend_config = backend_config)\n"
   ]
  },
  {
   "cell_type": "code",
   "execution_count": 14,
   "metadata": {},
   "outputs": [
    {
     "data": {
      "text/html": [
       "<table style=\"width:100%\"><tr><th>Experiment</th><th>Id</th><th>Type</th><th>Status</th><th>Details Page</th><th>Docs Page</th></tr><tr><td>train-project-local</td><td>train-project-local_1645987527_68a1798a</td><td>azureml.scriptrun</td><td>Completed</td><td><a href=\"https://ml.azure.com/runs/train-project-local_1645987527_68a1798a?wsid=/subscriptions/b17f1c19-34a2-47b8-a207-40ea477828fc/resourcegroups/aml-resource-group/workspaces/aml-workspace&amp;tid=0f823349-2c12-431b-a03c-b2c0a43d6fb4\" target=\"_blank\" rel=\"noopener\">Link to Azure Machine Learning studio</a></td><td><a href=\"https://docs.microsoft.com/en-us/python/api/azureml-core/azureml.core.script_run.ScriptRun?view=azure-ml-py\" target=\"_blank\" rel=\"noopener\">Link to Documentation</a></td></tr></table>"
      ],
      "text/plain": [
       "<azureml.mlflow._internal.submitted_run.AzureMLSubmittedRun at 0x7ff225ad0b50>"
      ]
     },
     "execution_count": 14,
     "metadata": {},
     "output_type": "execute_result"
    }
   ],
   "source": [
    "local_env_run"
   ]
  },
  {
   "cell_type": "markdown",
   "metadata": {},
   "source": [
    "Note: All these calculations were run on your local machine, in the conda environment you defined above. You can find the results in:\n",
    "- Your AzureML Experiments (a link to the run will be provided in the console)\n",
    "- ~/.azureml/envs/azureml_xxxx for the conda environment you just created\n",
    "- ~/AppData/Local/Temp/azureml_runs/train-on-local_xxxx for the machine learning models you trained (this path may differ depending on the platform you use). This folder also contains\n",
    "    - Logs (under azureml_logs/)\n",
    "    - Output pickled files (under outputs/)\n",
    "    - The configuration files (credentials, local and docker image setups)\n",
    "    - The train.py and mylib.py scripts\n",
    "    - The current notebook"
   ]
  },
  {
   "cell_type": "markdown",
   "metadata": {},
   "source": [
    "## System Mananged Environment\n",
    "\n",
    "Now, instead of managing the setup of the environment yourself, you can ask the system to build a new conda environment for you using the environment configuration file in this project. If a backend configuration object is not provided in the call, the integration will default to creating a new conda environment. The environment is built once, and will be reused in subsequent executions as long as the conda dependencies remain unchanged.\n"
   ]
  },
  {
   "cell_type": "code",
   "execution_count": null,
   "metadata": {
    "tags": []
   },
   "outputs": [
    {
     "name": "stderr",
     "output_type": "stream",
     "text": [
      "Class AzureMLProjectBackend: This is an experimental class, and may change at any time. Please see https://aka.ms/azuremlexperimental for more information.\n",
      "2022/02/27 19:48:51 INFO mlflow.projects.utils: === Created directory /tmp/tmp5qos0uy4 for downloading remote URIs passed to arguments of type 'path' ===\n",
      "No Python version provided, defaulting to \"3.6.2\"\n"
     ]
    },
    {
     "name": "stdout",
     "output_type": "stream",
     "text": [
      "27/02/2022 19:40:50 INFO azureml.mlflow: === Creating conda environment from Mlproject for local run ===\n"
     ]
    },
    {
     "name": "stderr",
     "output_type": "stream",
     "text": [
      "Class AzureMLSubmittedRun: This is an experimental class, and may change at any time. Please see https://aka.ms/azuremlexperimental for more information.\n"
     ]
    },
    {
     "name": "stdout",
     "output_type": "stream",
     "text": [
      "RunId: train-project-local_1645987733_3768ef46\n",
      "Web View: https://ml.azure.com/runs/train-project-local_1645987733_3768ef46?wsid=/subscriptions/b17f1c19-34a2-47b8-a207-40ea477828fc/resourcegroups/aml-resource-group/workspaces/aml-workspace&tid=0f823349-2c12-431b-a03c-b2c0a43d6fb4\n",
      "\n",
      "Streaming azureml-logs/60_control_log.txt\n",
      "=========================================\n",
      "\n",
      "[2022-02-27T18:48:54.740999] Using urllib.request Python 3.0 or later\n",
      "Streaming log file azureml-logs/60_control_log.txt\n",
      "Starting the daemon thread to refresh tokens in background for process with pid = 26248\n",
      "Running: ['/bin/bash', '/tmp/azureml_runs/train-project-local_1645987733_3768ef46/azureml-environment-setup/conda_env_checker.sh']\n",
      "Materialized conda environment not found on target: /home/rvl/.azureml/envs/azureml_4929ecefac254abcdced62e4fae2dafa\n",
      "\n",
      "\n",
      "[2022-02-27T18:48:54.849926] Logging experiment preparation status in history service.\n",
      "Running: ['/bin/bash', '/tmp/azureml_runs/train-project-local_1645987733_3768ef46/azureml-environment-setup/conda_env_builder.sh']\n",
      "Running: ['conda', '--version']\n",
      "conda 4.10.3\n",
      "\n",
      "Creating conda environment...\n",
      "Running: ['conda', 'env', 'create', '-p', '/home/rvl/.azureml/envs/azureml_4929ecefac254abcdced62e4fae2dafa', '-f', 'azureml-environment-setup/mutated_conda_dependencies.yml']\n",
      "Collecting package metadata (repodata.json): ...working... done\n",
      "Solving environment: ...working... done\n",
      "\n",
      "\n",
      "==> WARNING: A newer version of conda exists. <==\n",
      "  current version: 4.10.3\n",
      "  latest version: 4.11.0\n",
      "\n",
      "Please update conda by running\n",
      "\n",
      "    $ conda update -n base -c defaults conda\n",
      "\n",
      "\n",
      "\n",
      "Downloading and Extracting Packages\n",
      "readline-7.0         | 848 KB    | ########## | 100% \n",
      "pandas-1.1.5         | 8.2 MB    | ########## | 100% \n",
      "intel-openmp-2022.0. | 4.2 MB    | ########## | 100% \n",
      "numpy-1.15.4         | 34 KB     | ########## | 100% \n",
      "python-3.6.2         | 23.6 MB   | ########## | 100% \n",
      "libffi-3.2.1         | 48 KB     | ########## | 100% \n",
      "setuptools-58.0.4    | 788 KB    | ########## | 100% \n",
      "xz-5.2.5             | 341 KB    | ########## | 100% \n",
      "ncurses-6.0          | 781 KB    | ########## | 100% \n",
      "openssl-1.0.2u       | 2.2 MB    | ########## | 100% \n",
      "scipy-1.1.0          | 13.2 MB   | ########## | 100% \n",
      "numpy-base-1.15.4    | 3.4 MB    | ########## | 100% \n",
      "scikit-learn-0.19.1  | 3.9 MB    | ########## | 100% \n",
      "tbb-2021.5.0         | 157 KB    | ########## | 100% \n",
      "mkl-2018.0.3         | 126.9 MB  | ########## | 100% \n",
      "mkl_fft-1.0.6        | 135 KB    | ########## | 100% \n",
      "certifi-2021.5.30    | 139 KB    | ########## | 100% \n",
      "sqlite-3.23.1        | 808 KB    | ########## | 100% \n",
      "mkl_random-1.0.1     | 324 KB    | ########## | 100% \n",
      "tbb4py-2021.3.0      | 82 KB     | ########## | 100% \n",
      "libedit-3.1          | 151 KB    | ########## | 100% \n",
      "pip-21.2.2           | 1.8 MB    | ########## | 100% \n",
      "Preparing transaction: ...working... done\n",
      "Verifying transaction: ...working... done\n",
      "Executing transaction: ...working... done\n",
      "Installing pip dependencies: ...working... Ran pip subprocess with arguments:\n",
      "['/home/rvl/.azureml/envs/azureml_4929ecefac254abcdced62e4fae2dafa/bin/python', '-m', 'pip', 'install', '-U', '-r', '/tmp/azureml_runs/train-project-local_1645987733_3768ef46/azureml-environment-setup/condaenv.k3mdg1rf.requirements.txt']\n",
      "Pip subprocess output:\n",
      "Collecting mlflow\n",
      "  Using cached mlflow-1.23.1-py3-none-any.whl (15.6 MB)\n",
      "Collecting azureml-mlflow\n",
      "  Using cached azureml_mlflow-1.38.0-py3-none-any.whl (46 kB)\n",
      "Collecting prometheus-flask-exporter\n",
      "  Using cached prometheus_flask_exporter-0.18.7-py3-none-any.whl (17 kB)\n",
      "Collecting click>=7.0\n",
      "  Using cached click-8.0.4-py3-none-any.whl (97 kB)\n",
      "Collecting querystring-parser\n",
      "  Using cached querystring_parser-1.2.4-py2.py3-none-any.whl (7.9 kB)\n",
      "Collecting cloudpickle\n",
      "  Using cached cloudpickle-2.0.0-py3-none-any.whl (25 kB)\n",
      "Requirement already satisfied: pytz in /home/rvl/.azureml/envs/azureml_4929ecefac254abcdced62e4fae2dafa/lib/python3.6/site-packages (from mlflow->-r /tmp/azureml_runs/train-project-local_1645987733_3768ef46/azureml-environment-setup/condaenv.k3mdg1rf.requirements.txt (line 1)) (2021.3)\n",
      "Requirement already satisfied: scipy in /home/rvl/.azureml/envs/azureml_4929ecefac254abcdced62e4fae2dafa/lib/python3.6/site-packages (from mlflow->-r /tmp/azureml_runs/train-project-local_1645987733_3768ef46/azureml-environment-setup/condaenv.k3mdg1rf.requirements.txt (line 1)) (1.1.0)\n",
      "Collecting gitpython>=2.1.0\n",
      "  Downloading GitPython-3.1.18-py3-none-any.whl (170 kB)\n",
      "Collecting Flask\n",
      "  Using cached Flask-2.0.3-py3-none-any.whl (95 kB)\n",
      "Collecting pyyaml>=5.1\n",
      "  Using cached PyYAML-6.0-cp36-cp36m-manylinux_2_5_x86_64.manylinux1_x86_64.manylinux_2_12_x86_64.manylinux2010_x86_64.whl (603 kB)\n",
      "Collecting protobuf>=3.7.0\n",
      "  Downloading protobuf-3.19.4-cp36-cp36m-manylinux_2_17_x86_64.manylinux2014_x86_64.whl (1.1 MB)\n",
      "Collecting sqlalchemy\n",
      "  Downloading SQLAlchemy-1.4.31-cp36-cp36m-manylinux_2_5_x86_64.manylinux1_x86_64.manylinux_2_17_x86_64.manylinux2014_x86_64.whl (1.6 MB)\n",
      "Collecting importlib-metadata!=4.7.0,>=3.7.0\n",
      "  Using cached importlib_metadata-4.8.3-py3-none-any.whl (17 kB)\n",
      "Collecting gunicorn\n",
      "  Using cached gunicorn-20.1.0-py3-none-any.whl (79 kB)\n",
      "Collecting packaging\n",
      "  Using cached packaging-21.3-py3-none-any.whl (40 kB)\n",
      "Collecting entrypoints\n",
      "  Using cached entrypoints-0.4-py3-none-any.whl (5.3 kB)\n",
      "Requirement already satisfied: numpy in /home/rvl/.azureml/envs/azureml_4929ecefac254abcdced62e4fae2dafa/lib/python3.6/site-packages (from mlflow->-r /tmp/azureml_runs/train-project-local_1645987733_3768ef46/azureml-environment-setup/condaenv.k3mdg1rf.requirements.txt (line 1)) (1.15.4)\n",
      "Collecting docker>=4.0.0\n",
      "  Using cached docker-5.0.3-py2.py3-none-any.whl (146 kB)\n",
      "Collecting databricks-cli>=0.8.7\n",
      "  Using cached databricks-cli-0.16.4.tar.gz (58 kB)\n",
      "Collecting requests>=2.17.3\n",
      "  Using cached requests-2.27.1-py2.py3-none-any.whl (63 kB)\n",
      "Collecting sqlparse>=0.3.1\n",
      "  Using cached sqlparse-0.4.2-py3-none-any.whl (42 kB)\n",
      "Collecting alembic\n",
      "  Using cached alembic-1.7.6-py3-none-any.whl (210 kB)\n",
      "Requirement already satisfied: pandas in /home/rvl/.azureml/envs/azureml_4929ecefac254abcdced62e4fae2dafa/lib/python3.6/site-packages (from mlflow->-r /tmp/azureml_runs/train-project-local_1645987733_3768ef46/azureml-environment-setup/condaenv.k3mdg1rf.requirements.txt (line 1)) (1.1.5)\n",
      "Collecting jsonpickle\n",
      "  Using cached jsonpickle-2.1.0-py2.py3-none-any.whl (38 kB)\n",
      "Collecting azureml-core~=1.38.0\n",
      "  Using cached azureml_core-1.38.0.post2-py3-none-any.whl (2.5 MB)\n",
      "Collecting mlflow-skinny\n",
      "  Using cached mlflow_skinny-1.23.1-py3-none-any.whl (3.2 MB)\n",
      "Collecting azure-mgmt-authorization<1.0.0,>=0.40.0\n",
      "  Using cached azure_mgmt_authorization-0.61.0-py2.py3-none-any.whl (94 kB)\n",
      "Collecting azure-core<1.22\n",
      "  Using cached azure_core-1.21.1-py2.py3-none-any.whl (178 kB)\n",
      "Collecting cryptography!=1.9,!=2.0.*,!=2.1.*,!=2.2.*,<37.0.0\n",
      "  Using cached cryptography-36.0.1-cp36-abi3-manylinux_2_24_x86_64.whl (3.6 MB)\n",
      "Collecting backports.tempfile\n",
      "  Using cached backports.tempfile-1.0-py2.py3-none-any.whl (4.4 kB)\n",
      "Collecting azure-common<2.0.0,>=1.1.12\n",
      "  Using cached azure_common-1.1.28-py2.py3-none-any.whl (14 kB)\n",
      "Collecting PyJWT<3.0.0\n",
      "  Using cached PyJWT-2.3.0-py3-none-any.whl (16 kB)\n",
      "Collecting azure-mgmt-storage<20.0.0,>=16.0.0\n",
      "  Using cached azure_mgmt_storage-19.1.0-py3-none-any.whl (1.8 MB)\n",
      "Collecting pathspec<1.0.0\n",
      "  Using cached pathspec-0.9.0-py2.py3-none-any.whl (31 kB)\n",
      "Collecting azure-mgmt-resource<21.0.0,>=15.0.0\n",
      "  Using cached azure_mgmt_resource-20.1.0-py3-none-any.whl (2.3 MB)\n",
      "Requirement already satisfied: python-dateutil<3.0.0,>=2.7.3 in /home/rvl/.azureml/envs/azureml_4929ecefac254abcdced62e4fae2dafa/lib/python3.6/site-packages (from azureml-core~=1.38.0->azureml-mlflow->-r /tmp/azureml_runs/train-project-local_1645987733_3768ef46/azureml-environment-setup/condaenv.k3mdg1rf.requirements.txt (line 2)) (2.8.2)\n",
      "Collecting contextlib2<22.0.0\n",
      "  Using cached contextlib2-21.6.0-py2.py3-none-any.whl (13 kB)\n",
      "Collecting msal<2.0.0,>=1.15.0\n",
      "  Using cached msal-1.17.0-py2.py3-none-any.whl (79 kB)\n",
      "Collecting urllib3<=1.26.7,>=1.23\n",
      "  Using cached urllib3-1.26.7-py2.py3-none-any.whl (138 kB)\n",
      "Collecting msrestazure<=0.6.4,>=0.4.33\n",
      "  Using cached msrestazure-0.6.4-py2.py3-none-any.whl (40 kB)\n",
      "Collecting SecretStorage<4.0.0\n",
      "  Using cached SecretStorage-3.3.1-py3-none-any.whl (15 kB)\n",
      "Collecting msal-extensions<0.4,>=0.3.0\n",
      "  Using cached msal_extensions-0.3.1-py2.py3-none-any.whl (18 kB)\n",
      "Collecting jmespath<1.0.0\n",
      "  Using cached jmespath-0.10.0-py2.py3-none-any.whl (24 kB)\n",
      "Collecting azure-mgmt-keyvault<10.0.0,>=0.40.0\n",
      "  Using cached azure_mgmt_keyvault-9.3.0-py2.py3-none-any.whl (412 kB)\n",
      "Collecting argcomplete<2.0\n",
      "  Using cached argcomplete-1.12.3-py2.py3-none-any.whl (38 kB)\n",
      "Collecting ndg-httpsclient<=0.5.1\n",
      "  Using cached ndg_httpsclient-0.5.1-py3-none-any.whl (34 kB)\n",
      "Collecting pyopenssl<22.0.0\n",
      "  Using cached pyOpenSSL-21.0.0-py2.py3-none-any.whl (55 kB)\n",
      "Collecting knack~=0.8.2\n",
      "  Using cached knack-0.8.2-py3-none-any.whl (59 kB)\n",
      "Collecting pkginfo\n",
      "  Using cached pkginfo-1.8.2-py2.py3-none-any.whl (26 kB)\n",
      "Collecting humanfriendly<11.0,>=4.7\n",
      "  Using cached humanfriendly-10.0-py2.py3-none-any.whl (86 kB)\n",
      "Collecting adal<=1.2.7,>=1.2.0\n",
      "  Using cached adal-1.2.7-py2.py3-none-any.whl (55 kB)\n",
      "Collecting azure-mgmt-containerregistry<9.0.0,>=8.2.0\n",
      "  Using cached azure_mgmt_containerregistry-8.2.0-py2.py3-none-any.whl (928 kB)\n",
      "Collecting paramiko<3.0.0,>=2.0.8\n",
      "  Using cached paramiko-2.9.2-py2.py3-none-any.whl (210 kB)\n",
      "Collecting msrest<1.0.0,>=0.5.1\n",
      "  Using cached msrest-0.6.21-py2.py3-none-any.whl (85 kB)\n",
      "Collecting azure-graphrbac<1.0.0,>=0.40.0\n",
      "  Using cached azure_graphrbac-0.61.1-py2.py3-none-any.whl (141 kB)\n",
      "Requirement already satisfied: six>=1.11.0 in /home/rvl/.azureml/envs/azureml_4929ecefac254abcdced62e4fae2dafa/lib/python3.6/site-packages (from azure-core<1.22->azureml-core~=1.38.0->azureml-mlflow->-r /tmp/azureml_runs/train-project-local_1645987733_3768ef46/azureml-environment-setup/condaenv.k3mdg1rf.requirements.txt (line 2)) (1.16.0)\n",
      "Collecting azure-mgmt-core<2.0.0,>=1.2.0\n",
      "  Using cached azure_mgmt_core-1.3.0-py2.py3-none-any.whl (25 kB)\n",
      "Collecting cffi>=1.12\n",
      "  Using cached cffi-1.15.0-cp36-cp36m-manylinux_2_5_x86_64.manylinux1_x86_64.whl (405 kB)\n",
      "Collecting pycparser\n",
      "  Using cached pycparser-2.21-py2.py3-none-any.whl (118 kB)\n",
      "Collecting tabulate>=0.7.7\n",
      "  Using cached tabulate-0.8.9-py3-none-any.whl (25 kB)\n",
      "Collecting websocket-client>=0.32.0\n",
      "  Downloading websocket_client-1.3.1-py3-none-any.whl (54 kB)\n",
      "Collecting typing-extensions>=3.7.4.0\n",
      "  Using cached typing_extensions-4.1.1-py3-none-any.whl (26 kB)\n",
      "Collecting gitdb<5,>=4.0.1\n",
      "  Using cached gitdb-4.0.9-py3-none-any.whl (63 kB)\n",
      "Collecting smmap<6,>=3.0.1\n",
      "  Using cached smmap-5.0.0-py3-none-any.whl (24 kB)\n",
      "Collecting zipp>=0.5\n",
      "  Using cached zipp-3.6.0-py3-none-any.whl (5.3 kB)\n",
      "Collecting pygments\n",
      "  Using cached Pygments-2.11.2-py3-none-any.whl (1.1 MB)\n",
      "Collecting colorama\n",
      "  Using cached colorama-0.4.4-py2.py3-none-any.whl (16 kB)\n",
      "Collecting portalocker<3,>=1.0\n",
      "  Using cached portalocker-2.4.0-py2.py3-none-any.whl (16 kB)\n",
      "Requirement already satisfied: certifi>=2017.4.17 in /home/rvl/.azureml/envs/azureml_4929ecefac254abcdced62e4fae2dafa/lib/python3.6/site-packages (from msrest<1.0.0,>=0.5.1->azureml-core~=1.38.0->azureml-mlflow->-r /tmp/azureml_runs/train-project-local_1645987733_3768ef46/azureml-environment-setup/condaenv.k3mdg1rf.requirements.txt (line 2)) (2021.5.30)\n",
      "Collecting requests-oauthlib>=0.5.0\n",
      "  Using cached requests_oauthlib-1.3.1-py2.py3-none-any.whl (23 kB)\n",
      "Collecting isodate>=0.6.0\n",
      "  Using cached isodate-0.6.1-py2.py3-none-any.whl (41 kB)\n",
      "Collecting pyasn1>=0.1.1\n",
      "  Using cached pyasn1-0.4.8-py2.py3-none-any.whl (77 kB)\n",
      "Collecting pyparsing!=3.0.5,>=2.0.2\n",
      "  Using cached pyparsing-3.0.7-py3-none-any.whl (98 kB)\n",
      "Collecting pynacl>=1.0.1\n",
      "  Using cached PyNaCl-1.5.0-cp36-abi3-manylinux_2_17_x86_64.manylinux2014_x86_64.manylinux_2_24_x86_64.whl (856 kB)\n",
      "Collecting bcrypt>=3.1.3\n",
      "  Using cached bcrypt-3.2.0-cp36-abi3-manylinux_2_17_x86_64.manylinux2014_x86_64.manylinux_2_24_x86_64.whl (61 kB)\n",
      "Collecting charset-normalizer~=2.0.0\n",
      "  Using cached charset_normalizer-2.0.12-py3-none-any.whl (39 kB)\n",
      "Collecting idna<4,>=2.5\n",
      "  Using cached idna-3.3-py3-none-any.whl (61 kB)\n",
      "Collecting oauthlib>=3.0.0\n",
      "  Using cached oauthlib-3.2.0-py3-none-any.whl (151 kB)\n",
      "Collecting PySocks!=1.5.7,>=1.5.6\n",
      "  Using cached PySocks-1.7.1-py3-none-any.whl (16 kB)\n",
      "Collecting jeepney>=0.6\n",
      "  Using cached jeepney-0.7.1-py3-none-any.whl (54 kB)\n",
      "Collecting Mako\n",
      "  Using cached Mako-1.1.6-py2.py3-none-any.whl (75 kB)\n",
      "Collecting importlib-resources\n",
      "  Using cached importlib_resources-5.4.0-py3-none-any.whl (28 kB)\n",
      "Collecting greenlet!=0.4.17\n",
      "  Downloading greenlet-1.1.2-cp36-cp36m-manylinux_2_17_x86_64.manylinux2014_x86_64.whl (147 kB)\n",
      "Collecting backports.weakref\n",
      "  Using cached backports.weakref-1.0.post1-py2.py3-none-any.whl (5.2 kB)\n",
      "Collecting Jinja2>=3.0\n",
      "  Using cached Jinja2-3.0.3-py3-none-any.whl (133 kB)\n",
      "Collecting itsdangerous>=2.0\n",
      "  Using cached itsdangerous-2.0.1-py3-none-any.whl (18 kB)\n",
      "Collecting Werkzeug>=2.0\n",
      "  Using cached Werkzeug-2.0.3-py3-none-any.whl (289 kB)\n",
      "Collecting MarkupSafe>=2.0\n",
      "  Downloading MarkupSafe-2.0.1-cp36-cp36m-manylinux_2_5_x86_64.manylinux1_x86_64.manylinux_2_12_x86_64.manylinux2010_x86_64.whl (30 kB)\n",
      "Collecting dataclasses\n",
      "  Using cached dataclasses-0.8-py3-none-any.whl (19 kB)\n",
      "Requirement already satisfied: setuptools>=3.0 in /home/rvl/.azureml/envs/azureml_4929ecefac254abcdced62e4fae2dafa/lib/python3.6/site-packages (from gunicorn->mlflow->-r /tmp/azureml_runs/train-project-local_1645987733_3768ef46/azureml-environment-setup/condaenv.k3mdg1rf.requirements.txt (line 1)) (58.0.4)\n",
      "Collecting prometheus-client\n",
      "  Using cached prometheus_client-0.13.1-py3-none-any.whl (57 kB)\n",
      "Building wheels for collected packages: databricks-cli\n",
      "  Building wheel for databricks-cli (setup.py): started\n",
      "  Building wheel for databricks-cli (setup.py): finished with status 'done'\n",
      "  Created wheel for databricks-cli: filename=databricks_cli-0.16.4-py3-none-any.whl size=106877 sha256=a3970d057edcf84eeee0bfa978352e2d32a6cd0d52efc5d96bc1131d1407c376\n",
      "  Stored in directory: /home/rvl/.cache/pip/wheels/44/08/b0/8d0a22c4625004e1b16012ecfc1efcb515d54ba674dd94f29e\n",
      "Successfully built databricks-cli\n",
      "Installing collected packages: urllib3, pycparser, idna, charset-normalizer, requests, oauthlib, cffi, zipp, typing-extensions, requests-oauthlib, PyJWT, isodate, cryptography, smmap, msrest, MarkupSafe, importlib-metadata, dataclasses, azure-core, adal, Werkzeug, websocket-client, tabulate, pyyaml, PySocks, pyparsing, pyopenssl, pynacl, pygments, pyasn1, portalocker, msrestazure, msal, jmespath, Jinja2, jeepney, itsdangerous, greenlet, gitdb, colorama, click, bcrypt, backports.weakref, azure-mgmt-core, azure-common, argcomplete, sqlalchemy, SecretStorage, protobuf, prometheus-client, pkginfo, pathspec, paramiko, packaging, ndg-httpsclient, msal-extensions, Mako, knack, jsonpickle, importlib-resources, humanfriendly, gitpython, Flask, entrypoints, docker, databricks-cli, contextlib2, cloudpickle, backports.tempfile, azure-mgmt-storage, azure-mgmt-resource, azure-mgmt-keyvault, azure-mgmt-containerregistry, azure-mgmt-authorization, azure-graphrbac, sqlparse, querystring-parser, prometheus-flask-exporter, mlflow-skinny, gunicorn, azureml-core, alembic, mlflow, azureml-mlflow\n",
      "Successfully installed Flask-2.0.3 Jinja2-3.0.3 Mako-1.1.6 MarkupSafe-2.0.1 PyJWT-2.3.0 PySocks-1.7.1 SecretStorage-3.3.1 Werkzeug-2.0.3 adal-1.2.7 alembic-1.7.6 argcomplete-1.12.3 azure-common-1.1.28 azure-core-1.21.1 azure-graphrbac-0.61.1 azure-mgmt-authorization-0.61.0 azure-mgmt-containerregistry-8.2.0 azure-mgmt-core-1.3.0 azure-mgmt-keyvault-9.3.0 azure-mgmt-resource-20.1.0 azure-mgmt-storage-19.1.0 azureml-core-1.38.0.post2 azureml-mlflow-1.38.0 backports.tempfile-1.0 backports.weakref-1.0.post1 bcrypt-3.2.0 cffi-1.15.0 charset-normalizer-2.0.12 click-8.0.4 cloudpickle-2.0.0 colorama-0.4.4 contextlib2-21.6.0 cryptography-36.0.1 databricks-cli-0.16.4 dataclasses-0.8 docker-5.0.3 entrypoints-0.4 gitdb-4.0.9 gitpython-3.1.18 greenlet-1.1.2 gunicorn-20.1.0 humanfriendly-10.0 idna-3.3 importlib-metadata-4.8.3 importlib-resources-5.4.0 isodate-0.6.1 itsdangerous-2.0.1 jeepney-0.7.1 jmespath-0.10.0 jsonpickle-2.1.0 knack-0.8.2 mlflow-1.23.1 mlflow-skinny-1.23.1 msal-1.17.0 msal-extensions-0.3.1 msrest-0.6.21 msrestazure-0.6.4 ndg-httpsclient-0.5.1 oauthlib-3.2.0 packaging-21.3 paramiko-2.9.2 pathspec-0.9.0 pkginfo-1.8.2 portalocker-2.4.0 prometheus-client-0.13.1 prometheus-flask-exporter-0.18.7 protobuf-3.19.4 pyasn1-0.4.8 pycparser-2.21 pygments-2.11.2 pynacl-1.5.0 pyopenssl-21.0.0 pyparsing-3.0.7 pyyaml-6.0 querystring-parser-1.2.4 requests-2.27.1 requests-oauthlib-1.3.1 smmap-5.0.0 sqlalchemy-1.4.31 sqlparse-0.4.2 tabulate-0.8.9 typing-extensions-4.1.1 urllib3-1.26.7 websocket-client-1.3.1 zipp-3.6.0\n",
      "\n",
      "done\n",
      "#\n",
      "# To activate this environment, use\n",
      "#\n",
      "#     $ conda activate /home/rvl/.azureml/envs/azureml_4929ecefac254abcdced62e4fae2dafa\n",
      "#\n",
      "# To deactivate an active environment, use\n",
      "#\n",
      "#     $ conda deactivate\n",
      "\n",
      "\n",
      "\n",
      "\n",
      "\n",
      "Running: ['/home/rvl/.azureml/envs/azureml_4929ecefac254abcdced62e4fae2dafa/bin/python', 'azureml-setup/run_script.py', '/home/rvl/.azureml/envs/azureml_4929ecefac254abcdced62e4fae2dafa/bin/python', 'azureml-setup/context_manager_injector.py', '-i', 'ProjectPythonPath:context_managers.ProjectPythonPath', '-i', 'RunHistory:context_managers.RunHistory', '-i', 'TrackUserError:context_managers.TrackUserError', 'python train.py 0.3 0.1']\n",
      "[2022-02-27T18:50:16.054341] Logging experiment running status in history service.\n",
      "Streaming log file azureml-logs/70_driver_log.txt\n"
     ]
    }
   ],
   "source": [
    "backend_config = {\"USE_CONDA\": True}\n",
    "local_mlproject_run = mlflow.projects.run(uri=\".\", \n",
    "                                    parameters={\"alpha\":0.3},\n",
    "                                    backend = \"azureml\",\n",
    "                                    backend_config = backend_config)"
   ]
  },
  {
   "cell_type": "markdown",
   "metadata": {},
   "source": [
    "## Next Steps \n",
    "\n",
    "Try out these notebooks to learn more about MLflow-Azure Machine Learning integration:\n",
    "\n",
    " * [Train a model using remote compute on Azure Cloud](../train-on-remote/train-on-remote.ipynb)\n",
    " * [Deploy the model as a web service](../deploy-model/deploy-model.ipynb)\n",
    " * [Train a model using Pytorch and MLflow](../../ml-frameworks/using-mlflow/train-and-deploy-pytorch)\n",
    "\n"
   ]
  }
 ],
 "metadata": {
  "authors": [
   {
    "name": "shipatel"
   }
  ],
  "category": "tutorial",
  "celltoolbar": "Edit Metadata",
  "compute": [
   "Local"
  ],
  "exclude_from_index": false,
  "framework": [
   "ScikitLearn"
  ],
  "friendly_name": "Use MLflow projects with Azure Machine Learning to train a model with local compute",
  "kernelspec": {
   "display_name": "Python 3 (ipykernel)",
   "language": "python",
   "name": "python3"
  },
  "language_info": {
   "codemirror_mode": {
    "name": "ipython",
    "version": 3
   },
   "file_extension": ".py",
   "mimetype": "text/x-python",
   "name": "python",
   "nbconvert_exporter": "python",
   "pygments_lexer": "ipython3",
   "version": "3.8.12"
  },
  "tags": [
   "mlflow",
   "scikit"
  ],
  "task": "Use MLflow projects with Azure Machine Learning to train a model using local compute"
 },
 "nbformat": 4,
 "nbformat_minor": 2
}
